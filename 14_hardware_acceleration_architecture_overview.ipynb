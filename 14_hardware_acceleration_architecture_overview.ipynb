{
  "cells": [
    {
      "attachments": {},
      "cell_type": "markdown",
      "metadata": {
        "colab_type": "text",
        "id": "view-in-github"
      },
      "source": [
        "<a href=\"https://colab.research.google.com/github/dlsyscourse/lecture14/blob/main/14_hardware_acceleration_architecture_overview.ipynb\" target=\"_parent\"><img src=\"https://colab.research.google.com/assets/colab-badge.svg\" alt=\"Open In Colab\"/></a>"
      ]
    },
    {
      "attachments": {},
      "cell_type": "markdown",
      "metadata": {
        "id": "Mpn1ti5Urdsv"
      },
      "source": [
        "# Lecture 14: Hardware Acceleration Implementation\n",
        "\n",
        "In this lecture, we will to walk through backend scafoldings to get us hardware accelerations for needle.\n",
        "\n",
        "\n"
      ]
    },
    {
      "attachments": {},
      "cell_type": "markdown",
      "metadata": {
        "id": "MkXPIjVd90z7"
      },
      "source": [
        "## Select a GPU runtime type\n",
        "In this lecture, we are going to make use of c++ and CUDA to build accelerated linear algebra libraries. In order to do so, please make sure you select a runtime type with GPU and rerun the cells if needed:\n",
        "- Click on the \"Runtime\" tab\n",
        "- Click \"Change runtime type\"\n",
        "- Select GPU\n",
        "\n",
        "After you started the right runtime, you can run the following command to check if there is a GPU available."
      ]
    },
    {
      "cell_type": "code",
      "execution_count": 1,
      "metadata": {
        "colab": {
          "base_uri": "https://localhost:8080/"
        },
        "id": "5VM6IcuZ-kv6",
        "outputId": "9d2a2cd4-e861-477f-b4a4-f47223b3e6cb"
      },
      "outputs": [
        {
          "name": "stdout",
          "output_type": "stream",
          "text": [
            "Tue Jun 13 06:51:58 2023       \n",
            "+-----------------------------------------------------------------------------+\n",
            "| NVIDIA-SMI 470.182.03   Driver Version: 470.182.03   CUDA Version: 11.4     |\n",
            "|-------------------------------+----------------------+----------------------+\n",
            "| GPU  Name        Persistence-M| Bus-Id        Disp.A | Volatile Uncorr. ECC |\n",
            "| Fan  Temp  Perf  Pwr:Usage/Cap|         Memory-Usage | GPU-Util  Compute M. |\n",
            "|                               |                      |               MIG M. |\n",
            "|===============================+======================+======================|\n",
            "|   0  NVIDIA RTX A6000    Off  | 00000000:1B:00.0 Off |                    0 |\n",
            "| 30%   56C    P2    87W / 300W |   5358MiB / 45631MiB |      0%      Default |\n",
            "|                               |                      |                  N/A |\n",
            "+-------------------------------+----------------------+----------------------+\n",
            "|   1  NVIDIA RTX A6000    Off  | 00000000:1C:00.0 Off |                  Off |\n",
            "| 31%   60C    P2   103W / 300W |   3175MiB / 48685MiB |    100%      Default |\n",
            "|                               |                      |                  N/A |\n",
            "+-------------------------------+----------------------+----------------------+\n",
            "|   2  NVIDIA RTX A6000    Off  | 00000000:1D:00.0 Off |                  Off |\n",
            "| 30%   45C    P8    28W / 300W |      2MiB / 48685MiB |      0%      Default |\n",
            "|                               |                      |                  N/A |\n",
            "+-------------------------------+----------------------+----------------------+\n",
            "|   3  NVIDIA RTX A6000    Off  | 00000000:1E:00.0 Off |                    0 |\n",
            "| 30%   45C    P8    28W / 300W |   2927MiB / 45631MiB |      0%      Default |\n",
            "|                               |                      |                  N/A |\n",
            "+-------------------------------+----------------------+----------------------+\n",
            "|   4  NVIDIA RTX A5000    Off  | 00000000:3D:00.0 Off |                  Off |\n",
            "| 57%   81C    P2   229W / 230W |  17135MiB / 24256MiB |    100%      Default |\n",
            "|                               |                      |                  N/A |\n",
            "+-------------------------------+----------------------+----------------------+\n",
            "|   5  NVIDIA GeForce ...  Off  | 00000000:3F:00.0 Off |                  N/A |\n",
            "| 36%   45C    P8    31W / 350W |   3941MiB / 24268MiB |      0%      Default |\n",
            "|                               |                      |                  N/A |\n",
            "+-------------------------------+----------------------+----------------------+\n",
            "|   6  NVIDIA GeForce ...  Off  | 00000000:40:00.0 Off |                  N/A |\n",
            "| 81%   74C    P2   345W / 350W |  17545MiB / 24268MiB |    100%      Default |\n",
            "|                               |                      |                  N/A |\n",
            "+-------------------------------+----------------------+----------------------+\n",
            "|   7  NVIDIA GeForce ...  Off  | 00000000:41:00.0 Off |                  N/A |\n",
            "| 37%   46C    P8    42W / 350W |   3941MiB / 24268MiB |      0%      Default |\n",
            "|                               |                      |                  N/A |\n",
            "+-------------------------------+----------------------+----------------------+\n",
            "                                                                               \n",
            "+-----------------------------------------------------------------------------+\n",
            "| Processes:                                                                  |\n",
            "|  GPU   GI   CI        PID   Type   Process name                  GPU Memory |\n",
            "|        ID   ID                                                   Usage      |\n",
            "|=============================================================================|\n",
            "|    0   N/A  N/A     21439      C   ...ylz/miniconda3/bin/python     1777MiB |\n",
            "|    1   N/A  N/A     40147      C   ...vs/wechat-CLIP/bin/python     3173MiB |\n",
            "|    3   N/A  N/A     57989      C   python                           2925MiB |\n",
            "|    4   N/A  N/A     43088      C   python3                         17133MiB |\n",
            "|    5   N/A  N/A     36397      C   python3                          3939MiB |\n",
            "|    6   N/A  N/A     37220      C   python3                         17543MiB |\n",
            "|    7   N/A  N/A     42192      C   python3                          3939MiB |\n",
            "+-----------------------------------------------------------------------------+\n"
          ]
        }
      ],
      "source": [
        "!nvidia-smi"
      ]
    },
    {
      "attachments": {},
      "cell_type": "markdown",
      "metadata": {
        "id": "qXysoqn-vZuF"
      },
      "source": [
        "## Prepare the codebase\n",
        "\n",
        "To get started, we can clone the related repo from the github. "
      ]
    },
    {
      "cell_type": "code",
      "execution_count": null,
      "metadata": {
        "colab": {
          "base_uri": "https://localhost:8080/"
        },
        "id": "JjEIRTyr8ajf",
        "outputId": "c1e8ec0b-811d-40c0-f56a-6fec190c7907"
      },
      "outputs": [],
      "source": [
        "# Code to set up the assignment\n",
        "!git clone https://github.com/dlsyscourse/lecture14 "
      ]
    },
    {
      "cell_type": "code",
      "execution_count": null,
      "metadata": {
        "colab": {
          "base_uri": "https://localhost:8080/"
        },
        "id": "Xe3vClsD9jlq",
        "outputId": "87a092ef-04f2-4610-bd4c-660533864da3"
      },
      "outputs": [],
      "source": [
        "!python3 -m pip install pybind11"
      ]
    },
    {
      "attachments": {},
      "cell_type": "markdown",
      "metadata": {
        "id": "O_RrW38i_JNp"
      },
      "source": [
        "### Build the needle cuda library\n",
        "\n",
        "We leverage pybind to build a c++/cuda library for acceleration. You can type make to build the corresponding library."
      ]
    },
    {
      "cell_type": "code",
      "execution_count": 2,
      "metadata": {
        "colab": {
          "base_uri": "https://localhost:8080/"
        },
        "id": "o0EdAcB19saK",
        "outputId": "9df25f15-a46e-486a-ebd1-3b15cf8219bf"
      },
      "outputs": [
        {
          "name": "stdout",
          "output_type": "stream",
          "text": [
            "/home/lzw/code/10714/lecture14\n",
            "rm -rf build python/needle/backend_ndarray/ndarray_backend*.so\n",
            "-- The C compiler identification is GNU 8.4.0\n",
            "-- The CXX compiler identification is GNU 8.4.0\n",
            "-- Detecting C compiler ABI info\n",
            "-- Detecting C compiler ABI info - done\n",
            "-- Check for working C compiler: /usr/bin/cc - skipped\n",
            "-- Detecting C compile features\n",
            "-- Detecting C compile features - done\n",
            "-- Detecting CXX compiler ABI info\n",
            "-- Detecting CXX compiler ABI info - done\n",
            "-- Check for working CXX compiler: /usr/bin/c++ - skipped\n",
            "-- Detecting CXX compile features\n",
            "-- Detecting CXX compile features - done\n",
            "-- Found Python: /home/lzw/miniconda3/bin/python3.8 (found version \"3.8.13\") found components: Development Interpreter Development.Module Development.Embed \n",
            "-- Performing Test HAS_FLTO\n",
            "-- Performing Test HAS_FLTO - Success\n",
            "-- Found pybind11: /home/lzw/miniconda3/lib/python3.8/site-packages/pybind11/include (found version \"2.10.4\")\n",
            "CUDA_TOOLKIT_ROOT_DIR not found or specified\n",
            "-- Could NOT find CUDA (missing: CUDA_TOOLKIT_ROOT_DIR CUDA_NVCC_EXECUTABLE CUDA_INCLUDE_DIRS CUDA_CUDART_LIBRARY) \n",
            "-- Configuring done\n",
            "-- Generating done\n",
            "-- Build files have been written to: /home/lzw/code/10714/lecture14/build\n",
            "make[1]: Entering directory '/home/lzw/code/10714/lecture14/build'\n",
            "make[2]: Entering directory '/home/lzw/code/10714/lecture14/build'\n",
            "make[3]: Entering directory '/home/lzw/code/10714/lecture14/build'\n",
            "make[3]: Leaving directory '/home/lzw/code/10714/lecture14/build'\n",
            "make[3]: Entering directory '/home/lzw/code/10714/lecture14/build'\n",
            "[ 50%] \u001b[32mBuilding CXX object CMakeFiles/ndarray_backend_cpu.dir/src/ndarray_backend_cpu.cc.o\u001b[0m\n",
            "[100%] \u001b[32m\u001b[1mLinking CXX shared module ../python/needle/backend_ndarray/ndarray_backend_cpu.cpython-38-x86_64-linux-gnu.so\u001b[0m\n",
            "make[3]: Leaving directory '/home/lzw/code/10714/lecture14/build'\n",
            "[100%] Built target ndarray_backend_cpu\n",
            "make[2]: Leaving directory '/home/lzw/code/10714/lecture14/build'\n",
            "make[1]: Leaving directory '/home/lzw/code/10714/lecture14/build'\n"
          ]
        }
      ],
      "source": [
        "%cd ./lecture14\n",
        "!make clean\n",
        "!make"
      ]
    },
    {
      "attachments": {},
      "cell_type": "markdown",
      "metadata": {
        "id": "DFxG3p3S1sBq"
      },
      "source": [
        "We can then run the following command to make the path to the package available in colab's environment as well as the PYTHONPATH."
      ]
    },
    {
      "cell_type": "code",
      "execution_count": 4,
      "metadata": {
        "colab": {
          "base_uri": "https://localhost:8080/"
        },
        "id": "bix8OXLuCOKt",
        "outputId": "7ec83f6e-c7db-4bb8-a179-2f73b694cc24"
      },
      "outputs": [],
      "source": [
        "# %set_env PYTHONPATH ./python:/env/python\n",
        "import sys\n",
        "sys.path.append(\"./python\")"
      ]
    },
    {
      "attachments": {},
      "cell_type": "markdown",
      "metadata": {
        "id": "BBIuE2jc1DaU"
      },
      "source": [
        "## Codebase walkthrough\n",
        "\n",
        "\n",
        "Now click the files panel on the left side. You should be able to see these files\n",
        "\n",
        "Python:\n",
        "- needle/backend_ndarray/ndarray.py\n",
        "- needle/backend_ndarray/ndarray_backend_numpy.py\n",
        "\n",
        "C++/CUDA\n",
        "- src/ndarray_backend_cpu.cc\n",
        "- src/ndarray_backend_cuda.cu\n",
        "\n",
        "The main goal of this lecture is to create an accelerated ndarray library.\n",
        "As a result, we do not need to deal with needle.Tensor for now and will focus on backend_ndarray's implementation. \n",
        "\n",
        "After we build up this array library, we can then use it to power backend array computations in needle.\n"
      ]
    },
    {
      "attachments": {},
      "cell_type": "markdown",
      "metadata": {
        "id": "x1Z8wSsI6PrU"
      },
      "source": [
        "## Creating a CUDA NDArray\n",
        "\n",
        "\n",
        "\n",
        "\n"
      ]
    },
    {
      "cell_type": "code",
      "execution_count": 5,
      "metadata": {
        "id": "N2bm_WB9uF4V"
      },
      "outputs": [],
      "source": [
        "from needle import backend_ndarray as nd"
      ]
    },
    {
      "cell_type": "code",
      "execution_count": 8,
      "metadata": {
        "id": "2On4NzNggDfN"
      },
      "outputs": [],
      "source": [
        "x = nd.NDArray([1, 2, 3], device=nd.cpu())"
      ]
    },
    {
      "cell_type": "code",
      "execution_count": 11,
      "metadata": {
        "id": "lwXRXHbnN2-s"
      },
      "outputs": [
        {
          "ename": "AttributeError",
          "evalue": "'NoneType' object has no attribute 'Array'",
          "output_type": "error",
          "traceback": [
            "\u001b[0;31m---------------------------------------------------------------------------\u001b[0m",
            "\u001b[0;31mAttributeError\u001b[0m                            Traceback (most recent call last)",
            "\u001b[1;32m/home/lzw/code/10714/14_hardware_acceleration_architecture_overview.ipynb Cell 16\u001b[0m in \u001b[0;36m<cell line: 1>\u001b[0;34m()\u001b[0m\n\u001b[0;32m----> <a href='vscode-notebook-cell://ssh-remote%2Blab/home/lzw/code/10714/14_hardware_acceleration_architecture_overview.ipynb#X21sdnNjb2RlLXJlbW90ZQ%3D%3D?line=0'>1</a>\u001b[0m x \u001b[39m=\u001b[39m nd\u001b[39m.\u001b[39;49mNDArray([\u001b[39m1\u001b[39;49m, \u001b[39m2\u001b[39;49m, \u001b[39m3\u001b[39;49m], device\u001b[39m=\u001b[39;49mnd\u001b[39m.\u001b[39;49mcuda())\n",
            "File \u001b[0;32m~/code/10714/lecture14/./python/needle/backend_ndarray/ndarray.py:88\u001b[0m, in \u001b[0;36mNDArray.__init__\u001b[0;34m(self, other, device)\u001b[0m\n\u001b[1;32m     85\u001b[0m     \u001b[39mself\u001b[39m\u001b[39m.\u001b[39m_init(array)\n\u001b[1;32m     86\u001b[0m \u001b[39melse\u001b[39;00m:\n\u001b[1;32m     87\u001b[0m     \u001b[39m# see if we can create a numpy array from input\u001b[39;00m\n\u001b[0;32m---> 88\u001b[0m     array \u001b[39m=\u001b[39m NDArray(np\u001b[39m.\u001b[39;49marray(other), device\u001b[39m=\u001b[39;49mdevice)\n\u001b[1;32m     89\u001b[0m     \u001b[39mself\u001b[39m\u001b[39m.\u001b[39m_init(array)\n",
            "File \u001b[0;32m~/code/10714/lecture14/./python/needle/backend_ndarray/ndarray.py:83\u001b[0m, in \u001b[0;36mNDArray.__init__\u001b[0;34m(self, other, device)\u001b[0m\n\u001b[1;32m     80\u001b[0m \u001b[39melif\u001b[39;00m \u001b[39misinstance\u001b[39m(other, np\u001b[39m.\u001b[39mndarray):\n\u001b[1;32m     81\u001b[0m     \u001b[39m# create copy from numpy array\u001b[39;00m\n\u001b[1;32m     82\u001b[0m     device \u001b[39m=\u001b[39m device \u001b[39mif\u001b[39;00m device \u001b[39mis\u001b[39;00m \u001b[39mnot\u001b[39;00m \u001b[39mNone\u001b[39;00m \u001b[39melse\u001b[39;00m default_device()\n\u001b[0;32m---> 83\u001b[0m     array \u001b[39m=\u001b[39m \u001b[39mself\u001b[39;49m\u001b[39m.\u001b[39;49mmake(other\u001b[39m.\u001b[39;49mshape, device\u001b[39m=\u001b[39;49mdevice)\n\u001b[1;32m     84\u001b[0m     array\u001b[39m.\u001b[39mdevice\u001b[39m.\u001b[39mfrom_numpy(np\u001b[39m.\u001b[39mascontiguousarray(other), array\u001b[39m.\u001b[39m_handle)\n\u001b[1;32m     85\u001b[0m     \u001b[39mself\u001b[39m\u001b[39m.\u001b[39m_init(array)\n",
            "File \u001b[0;32m~/code/10714/lecture14/./python/needle/backend_ndarray/ndarray.py:119\u001b[0m, in \u001b[0;36mNDArray.make\u001b[0;34m(shape, strides, device, handle, offset)\u001b[0m\n\u001b[1;32m    117\u001b[0m array\u001b[39m.\u001b[39m_device \u001b[39m=\u001b[39m device \u001b[39mif\u001b[39;00m device \u001b[39mis\u001b[39;00m \u001b[39mnot\u001b[39;00m \u001b[39mNone\u001b[39;00m \u001b[39melse\u001b[39;00m default_device()\n\u001b[1;32m    118\u001b[0m \u001b[39mif\u001b[39;00m handle \u001b[39mis\u001b[39;00m \u001b[39mNone\u001b[39;00m:\n\u001b[0;32m--> 119\u001b[0m     array\u001b[39m.\u001b[39m_handle \u001b[39m=\u001b[39m array\u001b[39m.\u001b[39;49mdevice\u001b[39m.\u001b[39;49mArray(prod(shape))\n\u001b[1;32m    120\u001b[0m \u001b[39melse\u001b[39;00m:\n\u001b[1;32m    121\u001b[0m     array\u001b[39m.\u001b[39m_handle \u001b[39m=\u001b[39m handle\n",
            "File \u001b[0;32m~/code/10714/lecture14/./python/needle/backend_ndarray/ndarray.py:26\u001b[0m, in \u001b[0;36mBackendDevice.__getattr__\u001b[0;34m(self, name)\u001b[0m\n\u001b[1;32m     25\u001b[0m \u001b[39mdef\u001b[39;00m \u001b[39m__getattr__\u001b[39m(\u001b[39mself\u001b[39m, name):\n\u001b[0;32m---> 26\u001b[0m     \u001b[39mreturn\u001b[39;00m \u001b[39mgetattr\u001b[39;49m(\u001b[39mself\u001b[39;49m\u001b[39m.\u001b[39;49mmod, name)\n",
            "\u001b[0;31mAttributeError\u001b[0m: 'NoneType' object has no attribute 'Array'"
          ]
        }
      ],
      "source": [
        "x = nd.NDArray([1, 2, 3], device=nd.cuda())"
      ]
    },
    {
      "cell_type": "code",
      "execution_count": null,
      "metadata": {},
      "outputs": [],
      "source": []
    },
    {
      "attachments": {},
      "cell_type": "markdown",
      "metadata": {
        "id": "aSEJ911pJmkH"
      },
      "source": []
    },
    {
      "cell_type": "code",
      "execution_count": null,
      "metadata": {
        "id": "hSjmK60DOFEi"
      },
      "outputs": [],
      "source": [
        "y = x + 1"
      ]
    },
    {
      "cell_type": "code",
      "execution_count": null,
      "metadata": {
        "id": "_s59AZm7OFVV"
      },
      "outputs": [],
      "source": [
        "y"
      ]
    },
    {
      "cell_type": "code",
      "execution_count": null,
      "metadata": {
        "id": "ZBlbinVMYNhA"
      },
      "outputs": [],
      "source": [
        "y = x + x"
      ]
    },
    {
      "cell_type": "code",
      "execution_count": null,
      "metadata": {
        "colab": {
          "base_uri": "https://localhost:8080/"
        },
        "id": "-4RytYKfY6JQ",
        "outputId": "a21c1560-cf52-4035-e09e-09be677c5e5e"
      },
      "outputs": [],
      "source": [
        "y"
      ]
    },
    {
      "attachments": {},
      "cell_type": "markdown",
      "metadata": {
        "id": "wZGnTUsKF1x1"
      },
      "source": [
        "We can create a CUDA tensor from the data by specifying a device keyword."
      ]
    },
    {
      "cell_type": "code",
      "execution_count": null,
      "metadata": {
        "id": "1h5iAYFfBRED"
      },
      "outputs": [],
      "source": [
        "x = nd.NDArray([1, 2, 3], device=nd.cuda())"
      ]
    },
    {
      "cell_type": "code",
      "execution_count": null,
      "metadata": {
        "id": "CulMPqJkhkpE"
      },
      "outputs": [],
      "source": [
        "y = x + 1"
      ]
    },
    {
      "cell_type": "code",
      "execution_count": null,
      "metadata": {
        "id": "t4UuEs9KAkDR"
      },
      "outputs": [],
      "source": [
        "x.numpy()"
      ]
    },
    {
      "cell_type": "code",
      "execution_count": null,
      "metadata": {
        "colab": {
          "base_uri": "https://localhost:8080/"
        },
        "id": "WBMvL6QEBtG7",
        "outputId": "9d5539ec-f4ad-47a5-f4ec-7b89160f573a"
      },
      "outputs": [],
      "source": [
        "x.device"
      ]
    },
    {
      "cell_type": "code",
      "execution_count": null,
      "metadata": {
        "id": "qJSv7D8NGfAr"
      },
      "outputs": [],
      "source": [
        "y = x + 1"
      ]
    },
    {
      "cell_type": "code",
      "execution_count": null,
      "metadata": {
        "colab": {
          "base_uri": "https://localhost:8080/"
        },
        "id": "yZ7hmyBVGhGd",
        "outputId": "b4e69768-f853-41d6-9082-3c1ffb6bbf54"
      },
      "outputs": [],
      "source": [
        "y.device"
      ]
    },
    {
      "cell_type": "code",
      "execution_count": null,
      "metadata": {
        "colab": {
          "base_uri": "https://localhost:8080/"
        },
        "id": "NQVtUgK-f7_y",
        "outputId": "9afa3d67-aa35-4307-bd39-4b1fa471f19b"
      },
      "outputs": [],
      "source": [
        "y.numpy()"
      ]
    },
    {
      "attachments": {},
      "cell_type": "markdown",
      "metadata": {
        "id": "SPjNJfJsf_T9"
      },
      "source": [
        "### Key Data Structures\n",
        "\n",
        "Key data structures in backend_ndarray\n",
        "\n",
        "- NDArray: the container to hold device specific ndarray\n",
        "- BackendDevice: backend device\n",
        "    - mod holds the module implementation that implements all functions\n",
        "    - checkout ndarray_backend_numpy.py for a python-side reference.\n",
        "\n"
      ]
    },
    {
      "attachments": {},
      "cell_type": "markdown",
      "metadata": {
        "id": "HxKF9dcFhTy3"
      },
      "source": [
        "## Trace GPU execution\n",
        "\n",
        "Now, let us take a look at what happens when we execute the following code\n"
      ]
    },
    {
      "cell_type": "code",
      "execution_count": null,
      "metadata": {
        "id": "PLLzZzuthhBH"
      },
      "outputs": [],
      "source": [
        "x = nd.NDArray([1, 2, 3], device=nd.cuda())\n",
        "y = x + 1"
      ]
    },
    {
      "cell_type": "code",
      "execution_count": null,
      "metadata": {
        "colab": {
          "base_uri": "https://localhost:8080/"
        },
        "id": "V9NV0JFESkIe",
        "outputId": "35ac0a8a-dd5e-41bc-ddd0-6f6eb3fc96d6"
      },
      "outputs": [],
      "source": [
        "x.device.from_numpy"
      ]
    },
    {
      "cell_type": "code",
      "execution_count": null,
      "metadata": {
        "id": "H6vwR3yBRI9F"
      },
      "outputs": [],
      "source": [
        "x = nd.NDArray([1, 2, 3])"
      ]
    },
    {
      "cell_type": "code",
      "execution_count": null,
      "metadata": {
        "colab": {
          "base_uri": "https://localhost:8080/"
        },
        "id": "0PxoH_UzRMd3",
        "outputId": "e80add43-5a45-4e36-db1c-9db08ec0c24b"
      },
      "outputs": [],
      "source": [
        "x.device.from_numpy"
      ]
    },
    {
      "attachments": {},
      "cell_type": "markdown",
      "metadata": {
        "id": "xU5PFJJ-iR7J"
      },
      "source": [
        "Have the following trace:\n",
        "\n",
        "backend_ndarray/ndarray.py\n",
        "- `NDArray.__add__`\n",
        "- `NDArray.ewise_or_scalar`\n",
        "- `ndarray_backend_cpu.cc:ScalarAdd`"
      ]
    },
    {
      "cell_type": "code",
      "execution_count": null,
      "metadata": {
        "colab": {
          "base_uri": "https://localhost:8080/"
        },
        "id": "TxAKyM6yjr_R",
        "outputId": "b8ff88fd-aba8-474c-ec17-5399b2c8a1ca"
      },
      "outputs": [],
      "source": [
        "y.numpy()"
      ]
    },
    {
      "attachments": {},
      "cell_type": "markdown",
      "metadata": {
        "id": "F4vqb_a4j2O8"
      },
      "source": [
        "Have the following trace:\n",
        "\n",
        "- `NDArray.numpy`\n",
        "- `ndarray_backend_cpu.cc:to_numpy`"
      ]
    },
    {
      "attachments": {},
      "cell_type": "markdown",
      "metadata": {
        "id": "tMiFJmJVlD6j"
      },
      "source": [
        "## Guidelines for Reading C++/CUDA related Files\n",
        "\n",
        "Read\n",
        "- src/ndarray_backend_cpu.cc\n",
        "- src/ndarray_backend_cuda.cu\n",
        "\n",
        "\n",
        "Optional\n",
        "- CMakeLists.txt: this is used to setup the build and likely you do not need to tweak it.\n",
        "\n",
        "\n",
        "\n",
        "\n",
        "\n"
      ]
    },
    {
      "attachments": {},
      "cell_type": "markdown",
      "metadata": {
        "id": "uEpPbwQKkSkZ"
      },
      "source": [
        "## NDArray Data Structure\n",
        "\n",
        "Open up `python/needle/backend_ndarray/ndarray.py`.\n",
        "\n",
        "An NDArray contains the following fields:\n",
        "- handle: The backend handle that build a flat array which stores the data.\n",
        "- shape: The shape of the NDArray\n",
        "- strides: The strides that shows how do we access multi-dimensional elements\n",
        "- offset: The offset of the first element.\n",
        "- device: The backend device that backs the computation\n",
        "\n",
        "\n",
        "\n",
        "\n"
      ]
    },
    {
      "attachments": {},
      "cell_type": "markdown",
      "metadata": {
        "id": "875DgxFFACqb"
      },
      "source": [
        "## Transformation as Strided Computation\n",
        "\n",
        "We can leverage the strides and offset to perform transform/slicing with zero copy.\n",
        "\n",
        "- Broadcast: insert strides that equals 0\n",
        "- Tranpose: swap the strides\n",
        "- Slice: change the offset and shape \n",
        "\n",
        "For most of the computations, however, we will call `array.compact()` first to get a contiguous and aligned memory before running the computation."
      ]
    },
    {
      "cell_type": "code",
      "execution_count": null,
      "metadata": {
        "id": "I49fcoiyWYLt"
      },
      "outputs": [],
      "source": [
        "import numpy as np\n",
        "x = nd.NDArray([0, 1,2,3,4,5], device=nd.cpu_numpy())"
      ]
    },
    {
      "cell_type": "code",
      "execution_count": null,
      "metadata": {
        "colab": {
          "base_uri": "https://localhost:8080/",
          "height": 164
        },
        "id": "8H3F_ST1Wcvx",
        "outputId": "3c2fe697-689d-4cc8-b335-dcec2dc3d037"
      },
      "outputs": [],
      "source": [
        "x.numpy()"
      ]
    },
    {
      "cell_type": "code",
      "execution_count": null,
      "metadata": {
        "colab": {
          "base_uri": "https://localhost:8080/"
        },
        "id": "N0D4mCqjWh6c",
        "outputId": "9cf3de84-d62b-49bf-95b1-b66cd3ed2aa2"
      },
      "outputs": [],
      "source": [
        "y = nd.NDArray.make(shape=(3, 2, 2), strides=(2, 1, 0), device=x.device, handle=x._handle, offset=0)\n",
        "y.numpy()"
      ]
    },
    {
      "cell_type": "code",
      "execution_count": null,
      "metadata": {
        "id": "qGbICVsb6y98"
      },
      "outputs": [],
      "source": [
        "x = nd.NDArray([1, 2, 3, 4], device=nd.cpu_numpy())"
      ]
    },
    {
      "cell_type": "code",
      "execution_count": null,
      "metadata": {
        "colab": {
          "base_uri": "https://localhost:8080/"
        },
        "id": "iofcuXso64yk",
        "outputId": "47327d44-ed47-4edb-d0f1-eb0d601bc9cc"
      },
      "outputs": [],
      "source": [
        "x.numpy()"
      ]
    },
    {
      "attachments": {},
      "cell_type": "markdown",
      "metadata": {
        "id": "oceIop5P7RHW"
      },
      "source": [
        "We can use strides and shape manipulation to create different views of the same array."
      ]
    },
    {
      "cell_type": "code",
      "execution_count": null,
      "metadata": {
        "id": "C7zCed7e7B4u"
      },
      "outputs": [],
      "source": [
        "y = nd.NDArray.make(shape=(2, 2), strides=(2, 1), device=x.device, handle=x._handle, offset=0)"
      ]
    },
    {
      "cell_type": "code",
      "execution_count": null,
      "metadata": {
        "colab": {
          "base_uri": "https://localhost:8080/"
        },
        "id": "oaEPCvR17OMf",
        "outputId": "6035005d-4173-43c5-fb44-85b53fba81bd"
      },
      "outputs": [],
      "source": [
        "y.numpy()"
      ]
    },
    {
      "cell_type": "code",
      "execution_count": null,
      "metadata": {
        "id": "5rNS5MW67XyX"
      },
      "outputs": [],
      "source": [
        "z = nd.NDArray.make(shape=(2, 1), strides=(2, 1), device=x.device, handle=x._handle, offset=1)"
      ]
    },
    {
      "cell_type": "code",
      "execution_count": null,
      "metadata": {
        "colab": {
          "base_uri": "https://localhost:8080/"
        },
        "id": "HzhpVtKB7b97",
        "outputId": "f5b2990b-41fc-4f06-e41c-8e3bf988cc53"
      },
      "outputs": [],
      "source": [
        "z.numpy()"
      ]
    },
    {
      "attachments": {},
      "cell_type": "markdown",
      "metadata": {
        "id": "5ONkZbUuj6Dx"
      },
      "source": [
        "## CUDA Acceleration\n",
        "\n",
        "Now let us open `src/ndarray_cuda_backend.cu` and take a look at current implementation of GPU ops.\n"
      ]
    },
    {
      "attachments": {},
      "cell_type": "markdown",
      "metadata": {
        "id": "Og8N3iuZiZ4g"
      },
      "source": [
        "## Steps for adding a new operator implementation\n",
        "- Add an implementation in `ndarray_backend_cuda.cu`, expose via pybind\n",
        "- Call into the operator in ndarray.py\n",
        "- Write up testcases"
      ]
    },
    {
      "cell_type": "code",
      "execution_count": null,
      "metadata": {
        "colab": {
          "base_uri": "https://localhost:8080/"
        },
        "id": "xV1I7I2lkOJG",
        "outputId": "b292c476-9100-44fd-e909-028028205890"
      },
      "outputs": [],
      "source": [
        "!make"
      ]
    },
    {
      "cell_type": "code",
      "execution_count": null,
      "metadata": {
        "id": "YU870vVVZkzg"
      },
      "outputs": [],
      "source": [
        "x = nd.NDArray([1,2,3], device=nd.cuda())"
      ]
    },
    {
      "cell_type": "code",
      "execution_count": null,
      "metadata": {
        "colab": {
          "base_uri": "https://localhost:8080/"
        },
        "id": "iiQFCpb-ZqX8",
        "outputId": "bae09ef0-c880-44ab-d914-39e9667f2a1d"
      },
      "outputs": [],
      "source": [
        "!python tests/test_mul.py"
      ]
    },
    {
      "attachments": {},
      "cell_type": "markdown",
      "metadata": {
        "id": "VEtbnbvr6Wt7"
      },
      "source": [
        "## Connect back to needle Tensor\n",
        "\n",
        "So far we only played with the `backend_ndarray` subpackage, which is a self-contained ndarray implementation within needle.\n",
        "\n",
        "We can connect the ndarray back to needle as a backend."
      ]
    },
    {
      "cell_type": "code",
      "execution_count": null,
      "metadata": {
        "id": "JeThSA8zAu_v"
      },
      "outputs": [],
      "source": [
        "import needle as ndl"
      ]
    },
    {
      "cell_type": "code",
      "execution_count": null,
      "metadata": {
        "id": "dobDH96Ql8SV"
      },
      "outputs": [],
      "source": [
        "x = ndl.Tensor([1,2,3], device=ndl.cpu(), dtype=\"float32\")\n",
        "y = ndl.Tensor([2,3,5], device=ndl.cpu(), dtype=\"float32\")\n",
        "z = x + y"
      ]
    },
    {
      "cell_type": "code",
      "execution_count": null,
      "metadata": {
        "colab": {
          "base_uri": "https://localhost:8080/"
        },
        "id": "ouXpj1v6g3z1",
        "outputId": "cf44fb68-dab1-45a9-abe2-071f94fdee57"
      },
      "outputs": [],
      "source": [
        "z.device"
      ]
    },
    {
      "cell_type": "code",
      "execution_count": null,
      "metadata": {
        "colab": {
          "base_uri": "https://localhost:8080/"
        },
        "id": "4827VUz3bwvA",
        "outputId": "57cc213a-9003-44ad-c7db-768ae1342a1c"
      },
      "outputs": [],
      "source": [
        "type(z.cached_data)"
      ]
    },
    {
      "attachments": {},
      "cell_type": "markdown",
      "metadata": {
        "id": "74OUUH2REG18"
      },
      "source": [
        "## Write Standalone Python Test Files\n",
        "\n",
        "Now that we have additional c++/cuda libraries in needle, we will need to type make in order to rebuild the library. Additionally, because the colab environment caches the old library, it is inconvenient to use the ipython cells to debug the updated library.\n",
        "\n",
        "\n"
      ]
    },
    {
      "cell_type": "code",
      "execution_count": null,
      "metadata": {
        "colab": {
          "base_uri": "https://localhost:8080/"
        },
        "id": "sgLoV-_KHAM3",
        "outputId": "90f22a99-1da9-4243-a472-efd67a136c6b"
      },
      "outputs": [],
      "source": [
        "!make"
      ]
    },
    {
      "attachments": {},
      "cell_type": "markdown",
      "metadata": {
        "id": "dudnLHRqoKY2"
      },
      "source": [
        "\n",
        "We recommend writing separate python files and invoke them from the command line. Create a new file `tests/mytest.py` and write your local tests. This is also a common develop practice in big projects that involves python c++ FFI."
      ]
    },
    {
      "cell_type": "code",
      "execution_count": null,
      "metadata": {
        "colab": {
          "base_uri": "https://localhost:8080/"
        },
        "id": "TubIHJrkn4Sk",
        "outputId": "16be483a-adbf-4ea3-8750-308e501b4540"
      },
      "outputs": [],
      "source": [
        "!python tests/mytest.py"
      ]
    },
    {
      "attachments": {},
      "cell_type": "markdown",
      "metadata": {
        "id": "ei0UR-FYoY1-"
      },
      "source": [
        "After we have building the library, we could choose to fully restart the runtime (factory reset runtime) if you want to bring the updated change back to another colab. Note that you will need to save your code changes to the drive or a private github repo."
      ]
    }
  ],
  "metadata": {
    "accelerator": "GPU",
    "colab": {
      "authorship_tag": "ABX9TyOHZXcb9v+OAhkcV90YcWT/",
      "collapsed_sections": [],
      "include_colab_link": true,
      "provenance": [],
      "toc_visible": true
    },
    "kernelspec": {
      "display_name": "Python 3",
      "name": "python3"
    },
    "language_info": {
      "codemirror_mode": {
        "name": "ipython",
        "version": 3
      },
      "file_extension": ".py",
      "mimetype": "text/x-python",
      "name": "python",
      "nbconvert_exporter": "python",
      "pygments_lexer": "ipython3",
      "version": "3.8.13"
    }
  },
  "nbformat": 4,
  "nbformat_minor": 0
}
